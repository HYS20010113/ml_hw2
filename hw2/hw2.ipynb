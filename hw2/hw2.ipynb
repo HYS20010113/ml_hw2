{
 "cells": [
  {
   "cell_type": "markdown",
   "metadata": {},
   "source": [
    "### Subgradient"
   ]
  },
  {
   "cell_type": "markdown",
   "metadata": {},
   "source": [
    "Q1. Suppose $f_{1}, \\ldots, f_{m}: \\mathbb{R}^{d} \\rightarrow \\mathbb{R}$ are convex functions, \n",
    "and $f(\\boldsymbol{x})=\\max _{i=1, \\ldots, m} f_{i}(\\boldsymbol{x})$. Let $k$ be any index for which $f_{k}(\\boldsymbol{x})=f(\\boldsymbol{x})$, and choose $g \\in \\partial f_{k}\\left(\\boldsymbol{x})\\right.$ (a convex function on $\\mathbb{R}^{d}$ has a non-empty subdifferential at all points). Show that $g \\in \\partial f(\\boldsymbol{x})$."
   ]
  },
  {
   "cell_type": "markdown",
   "metadata": {},
   "source": [
    "##### solution:\n",
    "let $z \\in R^d$, we know that $f(z) \\geq f_i(z) \\forall i=1,\\dots,m$ because we select that  $f(\\boldsymbol{x})=\\max _{i=1, \\ldots, m} f_{i}(\\boldsymbol{x})$, then by the fact that $g \\in \\partial f_{k}\\left(\\boldsymbol{x})\\right.$, we know by definition of subgradient that $f_k(z) \\geq f_k(x)+g^\\top(z-x)$, since $f_k(x)=f(x)$ and $f(z)>=f_k(z)$, we have that $f(z)>=f_k(z)>=f(x)+g^\\top (z-x)$, and therefore $g \\in \\partial f(\\boldsymbol{x})$."
   ]
  },
  {
   "cell_type": "markdown",
   "metadata": {},
   "source": [
    "Q2. Give a subgradient of the hinge loss objective $J(\\boldsymbol{w})=\\max \\left\\{0,1-y \\boldsymbol{w}^{T} \\boldsymbol{x}\\right\\}$."
   ]
  },
  {
   "cell_type": "markdown",
   "metadata": {},
   "source": [
    "##### solution:\n",
    "suppose $J_1(w) = 0$ and $J_2(w) = 1-yw^\\top x$, $\\\\$ For $1-yw^\\top x < 0$, we can always find a subgradient $g=0$, $\\\\$ for $1-yw^\\top x \\geq 0$, $\\frac{\\partial}{\\partial w} (1-yw^\\top x) = -yx$, so we can pick $-yx$ as a subgradient, therefore the subgradient $g$ can be written as $$g(\\mathbf{w}) = \n",
    "\\left\\{\n",
    "\\begin{array}{ll}\n",
    "0 & \\text{if } y \\cdot \\mathbf{w}^T \\mathbf{x} > 1 \\\\\n",
    "-y \\mathbf{x} & \\text{if } y \\cdot \\mathbf{w}^T \\mathbf{x} \\leq 1 \n",
    "\\end{array}\n",
    "\\right.$$"
   ]
  },
  {
   "cell_type": "markdown",
   "metadata": {},
   "source": [
    "Q3. Consider the SVM objective function for a single training point $\\quad J_{i}(\\boldsymbol{w})=\\frac{\\lambda}{2}\\|\\boldsymbol{w}\\|^{2}+$ $\\max \\left\\{0,1-y_{i} \\boldsymbol{w}^{T} \\boldsymbol{x}_{i}\\right\\}$. The function $J_{i}(\\boldsymbol{w})$ is not differentiable everywhere. Specify where the gradient of $J_{i}(w)$ is not defined. Give an expression for the gradient where it is defined."
   ]
  },
  {
   "cell_type": "markdown",
   "metadata": {},
   "source": [
    "##### solution:"
   ]
  },
  {
   "cell_type": "markdown",
   "metadata": {},
   "source": [
    "The function is not differntiable at $1-y_iw^\\top x_i = 0$ because this is the turning point from a linear function to constant. And the gradient can be expressed as $$g(\\mathbf{w}) = \n",
    "\\left\\{\n",
    "\\begin{array}{ll}\n",
    "\\lambda w & \\text{if } y \\cdot \\mathbf{w}^T \\mathbf{x} > 1 \\\\\n",
    "\\lambda w-y_i \\mathbf{x_i} & \\text{if } y \\cdot \\mathbf{w}^T \\mathbf{x} < 1 \\\\\n",
    "undefined & \\text{if } y \\cdot \\mathbf{w}^T \\mathbf{x} = 1\n",
    "\\end{array}\\right.$$"
   ]
  },
  {
   "cell_type": "markdown",
   "metadata": {},
   "source": [
    "Q4. Show that a subgradient of $J_{i}(w)$ is given by\n",
    "\n",
    "$$\n",
    "\\boldsymbol{g} \\boldsymbol{w}= \\begin{cases}\\lambda \\boldsymbol{w}-y_{i} \\boldsymbol{x}_{i} & \\text { for } y_{i} \\boldsymbol{w}^{T} \\boldsymbol{x}_{i}<1 \\\\ \\lambda \\boldsymbol{w} & \\text { for } y_{i} \\boldsymbol{w}^{T} \\boldsymbol{x}_{i} \\geq 1\\end{cases}\n",
    "$$\n",
    "\n",
    "You may use the following facts without proof: 1) If $f_{1}, \\ldots, f_{n}: \\mathbb{R}^{d} \\rightarrow \\mathbb{R}$ are convex functions and $f=f_{1}+\\cdots+f_{n}$, then $\\partial f(\\boldsymbol{x})=\\partial f_{1}(\\boldsymbol{x})+\\cdots+\\partial f_{n}(\\boldsymbol{x})$. 2) For $\\alpha \\geq 0$, $\\partial(\\alpha f)(x)=\\alpha \\partial f(x)$. (Hint: Use the first part of this problem.)"
   ]
  },
  {
   "cell_type": "markdown",
   "metadata": {},
   "source": [
    "##### solution:\n",
    "Using 1), as we know that $\\lambda ||w||^2$ is also a convex functions, we can just sum up the subgradient to get the subgradient of $gw$ as \n",
    "$$g\\mathbf{w} = \n",
    "\\left\\{\n",
    "\\begin{array}{ll}\n",
    "\\lambda w + 0 & \\text{if } y \\cdot \\mathbf{w}^T \\mathbf{x} \\geq 1 \\\\\n",
    "\\lambda w-y_i \\mathbf{x_i} & \\text{if } y \\cdot \\mathbf{w}^T \\mathbf{x} < 1\n",
    "\\end{array}\\right. \\\\ \\rightarrow g\\mathbf{w}=  \n",
    "\\left\\{\n",
    "\\begin{array}{ll}\n",
    "\\lambda w  & \\text{if } y \\cdot \\mathbf{w}^T \\mathbf{x} \\geq 1 \\\\\n",
    "\\lambda w-y_i \\mathbf{x_i} & \\text{if } y \\cdot \\mathbf{w}^T \\mathbf{x} < 1\n",
    "\\end{array}\\right.$$"
   ]
  },
  {
   "cell_type": "markdown",
   "metadata": {},
   "source": [
    "using the step size as $\\frac{1}{\\lambda t}$, and the gradient descent is updated as $w_{k+1} = w_k-\\eta_{t} (gw_k)$, we can get that\n",
    "$$\\mathbf{w_{k+1}} = \n",
    "\\left\\{\n",
    "\\begin{array}{ll}\n",
    "\\lambda w_k-\\eta_t \\lambda w_k & \\text{if } y \\cdot \\mathbf{w}^T \\mathbf{x} \\geq 1 \\\\\n",
    "\\lambda w_k-\\eta_t(\\lambda w_k-y_i x_i) & \\text{if } y \\cdot \\mathbf{w}^T \\mathbf{x} < 1\n",
    "\\end{array}\\right.  \\\\ \\mathbf{w_{k+1}} = \n",
    "\\left\\{\n",
    "\\begin{array}{ll}\n",
    "(1-\\eta_t)w_t & \\text{if } y \\cdot \\mathbf{w}^T \\mathbf{x} \\geq 1 \\\\\n",
    "(1-\\eta_t)w_t + \\eta_t x_iy_i& \\text{if } y \\cdot \\mathbf{w}^T \\mathbf{x} < 1\n",
    "\\end{array}\\right.$$"
   ]
  },
  {
   "cell_type": "markdown",
   "metadata": {},
   "source": [
    "Q5. Write a function that converts an example (a list of words) into a sparse bag-of-words representation. You may find Python's Counter class to be useful here. Note that a Counter is itself a dictionary."
   ]
  },
  {
   "cell_type": "code",
   "execution_count": 2,
   "metadata": {},
   "outputs": [],
   "source": [
    "from collections import Counter\n",
    "def convert(words:list)->dict:\n",
    "    return dict(Counter(words))"
   ]
  },
  {
   "cell_type": "markdown",
   "metadata": {},
   "source": [
    "Q6. Load all the data and split it into 1500 training examples and 500 validation examples. Format the training data as a list X train of dictionaries and y train as the list of corre-sponding 1 or -1 labels. Format the test set similarly."
   ]
  },
  {
   "cell_type": "code",
   "execution_count": 5,
   "metadata": {},
   "outputs": [],
   "source": [
    "import os\n",
    "import numpy as np\n",
    "import random\n",
    "import copy\n",
    "\n",
    "\n",
    "def folder_list(path,label):\n",
    "    '''\n",
    "    PARAMETER PATH IS THE PATH OF YOUR LOCAL FOLDER\n",
    "    '''\n",
    "    filelist = os.listdir(path)\n",
    "    review = []\n",
    "    for infile in filelist:\n",
    "        file = os.path.join(path,infile)\n",
    "        r = read_data(file)\n",
    "        r.append(label)\n",
    "        review.append(r)\n",
    "    return review\n",
    "\n",
    "def read_data(file):\n",
    "    '''\n",
    "    Read each file into a list of strings.\n",
    "    Example:\n",
    "    [\"it's\", 'a', 'curious', 'thing', \"i've\", 'found', 'that', 'when', 'willis', 'is', 'not', 'called', 'on',\n",
    "    ...'to', 'carry', 'the', 'whole', 'movie', \"he's\", 'much', 'better', 'and', 'so', 'is', 'the', 'movie']\n",
    "    '''\n",
    "    f = open(file)\n",
    "    lines = f.read().split(' ')\n",
    "    symbols = '${}()[].,:;+-*/&|<>=~\" '\n",
    "    words = map(lambda Element: Element.translate(str.maketrans(\"\", \"\", symbols)).strip(), lines)\n",
    "    words = filter(None, words)\n",
    "    return list(words)\n",
    "\n",
    "\n",
    "def load_and_shuffle_data():\n",
    "    '''\n",
    "    pos_path is where you save positive review data.\n",
    "    neg_path is where you save negative review data.\n",
    "    '''\n",
    "    pos_path = '/Users/lijunrui/Desktop/ml_hw2/hw2/data_reviews/pos'\n",
    "    neg_path = '/Users/lijunrui/Desktop/ml_hw2/hw2/data_reviews/neg'\n",
    "    \n",
    "    pos_review = folder_list(pos_path,1)\n",
    "    neg_review = folder_list(neg_path,-1)\n",
    "\n",
    "    review = pos_review + neg_review\n",
    "    random.shuffle(review)\n",
    "    return review\n",
    "\n",
    "# Taken from http://web.stanford.edu/class/cs221/ Assignment #2 Support Code\n",
    "def dotProduct(d1, d2):\n",
    "    \"\"\"\n",
    "    @param dict d1: a feature vector represented by a mapping from a feature (string) to a weight (float).\n",
    "    @param dict d2: same as d1\n",
    "    @return float: the dot product between d1 and d2\n",
    "    \"\"\"\n",
    "    if len(d1) < len(d2):\n",
    "        return dotProduct(d2, d1)\n",
    "    else:\n",
    "        return sum(d1.get(f, 0) * v for f, v in d2.items())\n",
    "\n",
    "def increment(d1, scale, d2):\n",
    "    \"\"\"\n",
    "    Implements d1 += scale * d2 for sparse vectors.\n",
    "    @param dict d1: the feature vector which is mutated.\n",
    "    @param float scale\n",
    "    @param dict d2: a feature vector.\n",
    "\n",
    "    NOTE: This function does not return anything, but rather\n",
    "    increments d1 in place. We do this because it is much faster to\n",
    "    change elements of d1 in place than to build a new dictionary and\n",
    "    return it.\n",
    "    \"\"\"\n",
    "    for f, v in d2.items():\n",
    "        d1[f] = d1.get(f, 0) + v * scale\n"
   ]
  },
  {
   "cell_type": "markdown",
   "metadata": {},
   "source": [
    "##### solution"
   ]
  },
  {
   "cell_type": "code",
   "execution_count": 47,
   "metadata": {},
   "outputs": [],
   "source": [
    "data_reviews = load_and_shuffle_data()\n",
    "train = data_reviews[:1500]\n",
    "test = data_reviews[1500:]"
   ]
  },
  {
   "cell_type": "code",
   "execution_count": 49,
   "metadata": {},
   "outputs": [],
   "source": [
    "def format_train_test_data(train, test):\n",
    "    X_train = []\n",
    "    Y_train = []\n",
    "    X_test = []\n",
    "    Y_test = []\n",
    "    for data in train:\n",
    "        X_train.append(convert(data[:-1]))\n",
    "        Y_train.append(int(data[-1]))\n",
    "    for data in test:\n",
    "        X_test.append(convert(data[:-1]))\n",
    "        Y_test.append(int(data[-1]))\n",
    "    return X_train, Y_train, X_test, Y_test\n",
    "x_train, y_train, x_test, y_test = format_train_test_data(train, test)"
   ]
  },
  {
   "cell_type": "markdown",
   "metadata": {},
   "source": [
    "Q7. Implement the Pegasos algorithm to run on a sparse data representation. The output\n",
    "should be a sparse weight vector w represented as a dictionary. Note that our Pegasos\n",
    "algorithm starts at w = 0, which corresponds to an empty dictionary. Note: With this\n",
    "problem, you will need to take some care to code things effciently. In particular, be aware\n",
    "that making copies of the weight dictionary can slow down your code significantly. If you\n",
    "want to make a copy of your weights (e.g. for checking for convergence), make sure you\n",
    "don't do this more than once per epoch. Also: If you normalize your data in some way,\n",
    "be sure not to destroy the sparsity of your data. Anything that starts as 0 should stay at 0."
   ]
  },
  {
   "cell_type": "code",
   "execution_count": 51,
   "metadata": {},
   "outputs": [],
   "source": [
    "def pegasos(X, y, lambda_ = 0.01, max_epoch = 25):\n",
    "    w = {} # initailiza a sparse representation of weight\n",
    "    for data in X:\n",
    "        for key in data.keys():\n",
    "            if key not in w.keys():\n",
    "                w[key] = 0\n",
    "    order = np.arange(len(X))\n",
    "    t = 0\n",
    "    eta = 0\n",
    "    r = np.random.RandomState(10)\n",
    "    for _ in range(max_epoch):\n",
    "        # r.shuffle(order)\n",
    "        for i in range(len(X)):\n",
    "            t+=1\n",
    "            eta = 1/(lambda_ * t)\n",
    "            if y[i]*dotProduct(w, X[i])<1:\n",
    "                increment(w, -eta * lambda_, w)\n",
    "                increment(w, eta * y[i], X[i])\n",
    "            else:\n",
    "                increment(w, -eta*lambda_, w)\n",
    "    W = copy.deepcopy(w)\n",
    "    return W"
   ]
  },
  {
   "cell_type": "markdown",
   "metadata": {},
   "source": [
    "Q8. If the update is $w_{t+1}=\\left(1-\\eta_{t} \\lambda\\right) w_{t}+\\eta_{t} y_{j} x_{j}$, then verify that the Pegasos update step is equivalent to:\n",
    "\n",
    "$$\n",
    "\\begin{aligned}\n",
    "s_{t+1} & =\\left(1-\\eta_{t} \\lambda\\right) s_{t} \\\\\n",
    "W_{t+1} & =W_{t}+\\frac{1}{s_{t+1}} \\eta_{t} y_{j} x_{j} .\n",
    "\\end{aligned}\n",
    "$$\n",
    "\n",
    "Implement the Pegasos algorithm with the $(s, W)$ representation described above. "
   ]
  },
  {
   "cell_type": "markdown",
   "metadata": {},
   "source": [
    "##### solution:\n",
    "to verify the update step:\n",
    "$$w_{t+1} = s_{t+1}W_{t+1} = (1-\\eta_t \\lambda)s_t(W_t+\\frac{1}{s_{t+1}}\\eta_t y_jx_j) \n",
    "\\\\ = (1-\\eta_t \\lambda)s_t(W_t+\\frac{1}{(1-\\eta_t \\lambda)s_t}\\eta_t y_jx_j)\n",
    "\\\\ = (1-\\eta_t \\lambda)s_tW_t+\\eta_t y_jx_j \\\\ = (1-\\eta_t \\lambda)w_t+\\eta_t y_jx_j$$"
   ]
  },
  {
   "cell_type": "code",
   "execution_count": 52,
   "metadata": {},
   "outputs": [],
   "source": [
    "def fast_pegasos(X, y, lambda_ = 0.01, max_epoch = 25):\n",
    "    w = {} # initailiza a sparse representation of weight\n",
    "    for data in X:\n",
    "        for key in data.keys():\n",
    "            if key not in w.keys():\n",
    "                w[key] = 0\n",
    "    order = np.arange(len(X))\n",
    "    W = copy.deepcopy(w)\n",
    "    t = 1\n",
    "    eta = 0\n",
    "    s = 1.0\n",
    "    r = np.random.RandomState(10)\n",
    "    for _ in range(max_epoch):\n",
    "        # r.shuffle(order)\n",
    "        for i in range(len(X)):\n",
    "            # print(i)\n",
    "            t+=1\n",
    "            eta = 1/(lambda_ * t)\n",
    "            if s == 0:\n",
    "                s = 1.0\n",
    "                W = copy.deepcopy(w)\n",
    "            if y[i]* s *dotProduct(W, X[i]) < 1:\n",
    "                s = (1 - eta*lambda_)*s\n",
    "                increment(W, (1.0/s)*eta*y[i], X[i])\n",
    "            else:\n",
    "                s = (1-eta*lambda_)*s\n",
    "    increment(w,s,W)\n",
    "    return w"
   ]
  },
  {
   "cell_type": "markdown",
   "metadata": {},
   "source": [
    "Q9. Run both implementations of Pegasos on the training data for a couple epochs. Make sure\n",
    "your implementations are correct by verifying that the two approaches give essentially the\n",
    "same result. Report on the time taken to run each approach."
   ]
  },
  {
   "cell_type": "markdown",
   "metadata": {},
   "source": [
    "##### solution"
   ]
  },
  {
   "cell_type": "code",
   "execution_count": 10,
   "metadata": {},
   "outputs": [],
   "source": [
    "def count_within_tolerance(d1, d2, tolerance=1e-6):\n",
    "    count = 0\n",
    "    for key in d1:\n",
    "        difference = abs(d1[key] - d2[key])\n",
    "        if difference <= tolerance:\n",
    "            count += 1\n",
    "    return count"
   ]
  },
  {
   "cell_type": "code",
   "execution_count": 11,
   "metadata": {},
   "outputs": [
    {
     "name": "stdout",
     "output_type": "stream",
     "text": [
      "The total time spent on normal pegasos method:  367.9082591533661\n",
      "The total time spent on fast pegasos method:  3.316850185394287\n",
      "----------------------------------------------------------------\n",
      "-------------Verification of the result--------------------\n",
      "Check all keys are the same:  True\n",
      "total number of keys: 43507\n",
      "Number of keys that has value within tolerance of 10^-6: 43507\n"
     ]
    }
   ],
   "source": [
    "import time\n",
    "time1 = time.time()\n",
    "w_normal = pegasos(x_train, y_train)\n",
    "time2 = time.time()\n",
    "print(\"The total time spent on normal pegasos method: \", time2-time1)\n",
    "time3 = time.time()\n",
    "w_fast = fast_pegasos(x_train, y_train)\n",
    "time4 =time.time()\n",
    "print(\"The total time spent on fast pegasos method: \", time4-time3)\n",
    "print(\"----------------------------------------------------------------\")\n",
    "print(\"-------------Verification of the result--------------------\")\n",
    "print(\"Check all keys are the same: \", w_normal.keys() == w_fast.keys())\n",
    "print(\"total number of keys:\", len(w_fast))\n",
    "print(\"Number of keys that has value within tolerance of 10^-6:\", count_within_tolerance(w_normal, w_fast))"
   ]
  },
  {
   "cell_type": "markdown",
   "metadata": {},
   "source": [
    "From the result above we can see that the results are basically the same within at least 6 digits of precision and we can also notice the fast_pegasos method is significantly faster than the normal method, the total running time of $25$ epoches is significanlty less than the normal method"
   ]
  },
  {
   "cell_type": "markdown",
   "metadata": {},
   "source": [
    "Q10. Write a function classification_error that takes a sparse weight vector $\\mathrm{w}$, a list of sparse vectors $\\mathrm{X}$ and the corresponding list of labels $\\mathrm{y}$, and returns the fraction of errors when predicting $y_{i}$ using $\\operatorname{sign}\\left(\\boldsymbol{w}^{T} \\boldsymbol{x}_{i}\\right)$. In other words, the function reports the 0-1 loss of the linear predictor $f(\\boldsymbol{x})=\\boldsymbol{w}^{T} \\boldsymbol{x}$"
   ]
  },
  {
   "cell_type": "markdown",
   "metadata": {},
   "source": [
    "##### solution"
   ]
  },
  {
   "cell_type": "code",
   "execution_count": 53,
   "metadata": {},
   "outputs": [
    {
     "data": {
      "text/plain": [
       "0.052000000000000046"
      ]
     },
     "execution_count": 53,
     "metadata": {},
     "output_type": "execute_result"
    }
   ],
   "source": [
    "def classification_error(X, y, w):\n",
    "    preds = []\n",
    "    for sample in X:\n",
    "        res = dotProduct(w, sample)\n",
    "        if res>0:\n",
    "            pred = 1            \n",
    "        if res<0:\n",
    "            pred = -1\n",
    "        preds.append(pred)\n",
    "    count = 0\n",
    "    for i in range(len(preds)):\n",
    "        if preds[i] == y[i]:\n",
    "            count+=1\n",
    "    return 1-count/len(preds)\n",
    "classification_error(x_test, y_test, w_fast)"
   ]
  },
  {
   "cell_type": "markdown",
   "metadata": {},
   "source": [
    "Q11. Search for the regularization parameter that gives the minimal percent error on your test set. You should now use your faster Pegasos implementation, and run it to convergence. A good search strategy is to start with a set of regularization parameters spanning a broad range of orders of magnitude. Then, continue to zoom in until you're convinced that additional search will not significantly improve your test performance. Plot the test errors you obtained as a function of the parameters $\\lambda$ you tested. (Hint: the error you get with the best regularization should be closer to $15 \\%$ than $20 \\%$. If not, maybe you did not train to convergence.)"
   ]
  },
  {
   "cell_type": "code",
   "execution_count": 54,
   "metadata": {},
   "outputs": [
    {
     "ename": "ZeroDivisionError",
     "evalue": "float division by zero",
     "output_type": "error",
     "traceback": [
      "\u001b[0;31m---------------------------------------------------------------------------\u001b[0m",
      "\u001b[0;31mZeroDivisionError\u001b[0m                         Traceback (most recent call last)",
      "Cell \u001b[0;32mIn[54], line 5\u001b[0m\n\u001b[1;32m      3\u001b[0m errors \u001b[39m=\u001b[39m []\n\u001b[1;32m      4\u001b[0m \u001b[39mfor\u001b[39;00m lambda_ \u001b[39min\u001b[39;00m lambdas:\n\u001b[0;32m----> 5\u001b[0m     w \u001b[39m=\u001b[39m fast_pegasos(x_train, y_train, lambda_\u001b[39m=\u001b[39;49mlambda_, max_epoch\u001b[39m=\u001b[39;49m\u001b[39m25\u001b[39;49m)\n\u001b[1;32m      6\u001b[0m     errors\u001b[39m.\u001b[39mappend(classification_error(x_test, y_test, w))\n\u001b[1;32m      7\u001b[0m log_lambdas \u001b[39m=\u001b[39m np\u001b[39m.\u001b[39mlog10(lambdas)\n",
      "Cell \u001b[0;32mIn[52], line 24\u001b[0m, in \u001b[0;36mfast_pegasos\u001b[0;34m(X, y, lambda_, max_epoch)\u001b[0m\n\u001b[1;32m     22\u001b[0m \u001b[39mif\u001b[39;00m y[i]\u001b[39m*\u001b[39m s \u001b[39m*\u001b[39mdotProduct(W, X[i]) \u001b[39m<\u001b[39m \u001b[39m1\u001b[39m:\n\u001b[1;32m     23\u001b[0m     s \u001b[39m=\u001b[39m (\u001b[39m1\u001b[39m \u001b[39m-\u001b[39m eta\u001b[39m*\u001b[39mlambda_)\u001b[39m*\u001b[39ms\n\u001b[0;32m---> 24\u001b[0m     increment(W, (\u001b[39m1.0\u001b[39;49m\u001b[39m/\u001b[39;49ms)\u001b[39m*\u001b[39meta\u001b[39m*\u001b[39my[i], X[i])\n\u001b[1;32m     25\u001b[0m \u001b[39melse\u001b[39;00m:\n\u001b[1;32m     26\u001b[0m     s \u001b[39m=\u001b[39m (\u001b[39m1\u001b[39m\u001b[39m-\u001b[39meta\u001b[39m*\u001b[39mlambda_)\u001b[39m*\u001b[39ms\n",
      "\u001b[0;31mZeroDivisionError\u001b[0m: float division by zero"
     ]
    }
   ],
   "source": [
    "import matplotlib.pyplot as plt\n",
    "lambdas = [1e-5, 1e-4, 1e-3, 1e-2, 1e-1, 1, 10]\n",
    "errors = []\n",
    "for lambda_ in lambdas:\n",
    "    w = fast_pegasos(x_train, y_train, lambda_=lambda_, max_epoch=25)\n",
    "    errors.append(classification_error(x_test, y_test, w))\n",
    "log_lambdas = np.log10(lambdas)\n",
    "plt.figure(figsize=(10, 6))\n",
    "plt.plot(log_lambdas, errors, color='blue', marker='o', linestyle='-')\n",
    "plt.title('Scatter Plot of log(Parameters) vs Errors')\n",
    "plt.xlabel('log(Parameters)')\n",
    "plt.ylabel('Errors')\n",
    "plt.grid(True)\n",
    "plt.show()"
   ]
  },
  {
   "cell_type": "markdown",
   "metadata": {},
   "source": [
    "The best $\\lambda$ as shown in the graph is $10^{-2}$"
   ]
  },
  {
   "cell_type": "markdown",
   "metadata": {},
   "source": [
    "Q12. Break the predictions on the test set into groups based on the score (you can play with\n",
    "the size of the groups to get a result you think is informative). For each group, examine\n",
    "the percentage error. You can make a table or graph. Summarize the results. Is there a\n",
    "correlation between higher magnitude scores and accuracy?"
   ]
  },
  {
   "cell_type": "code",
   "execution_count": 21,
   "metadata": {},
   "outputs": [],
   "source": [
    "import numpy as np\n",
    "\n",
    "def indices_in_range(arr, low, high):\n",
    "    return np.where((arr >= low) & (arr <= high))\n"
   ]
  },
  {
   "cell_type": "code",
   "execution_count": null,
   "metadata": {},
   "outputs": [],
   "source": [
    "w = fast_pegasos(x_train, y_train, lambda_=1e-3, max_epoch=25)\n",
    "def get_score(X,w):\n",
    "    scores = []\n",
    "    for sample in X:\n",
    "        scores.append(abs(dotProduct(w, sample)))\n",
    "    return np.array(scores)\n",
    "scores = get_score(x_test,w)\n",
    "intervals = [(0, 60), (61, 120), (121, 180), (181, 240), (241, 300), (301, 360), (360, 420)]\n",
    "\n",
    "def test_accuracy_base_on_group(X, y, w):\n",
    "    errors_for_groups = []\n",
    "    for interval in intervals:\n",
    "        indices = indices_in_range(scores, interval[0], interval[1])[0]\n",
    "        errors_for_groups.append(classification_error([X[idx] for idx in indices], [y[idx] for idx in indices], w))\n",
    "    return errors_for_groups\n",
    "errors_for_groups = test_accuracy_base_on_group(x_test, y_test, w)\n",
    "x = np.arange(7)\n",
    "test_for_total = [0.1566]*7\n",
    "plt.figure(figsize=(10,6))\n",
    "plt.plot(errors_for_groups, label = 'test error for different groups')\n",
    "plt.plot(test_for_total, '--',label = 'test loss for all test set')\n",
    "plt.xlabel('group number')\n",
    "plt.ylabel(\"test loss\")\n",
    "plt.legend()\n",
    "plt.grid('True')\n",
    "plt.show()"
   ]
  },
  {
   "cell_type": "markdown",
   "metadata": {},
   "source": [
    "<figure>\n",
    "  <img src=\"graphs/group_loss_graph.png\" alt=\"Alt text\" width=\"100%\">\n",
    "</figure>\n"
   ]
  },
  {
   "cell_type": "markdown",
   "metadata": {},
   "source": [
    "Base on the range of the score of the best $\\lambda$ chosen, the score is divided into seven groups of data. Group 0 represensts score with absolute value $\\in [0, 60]$, and Group 1 to be abosolute value $\\in (61, 120]$ and etc. \n",
    "From the graph we can see that for groups that has lower score, the error is obviouly higher, and for asbosolute score that is sufficeintly large, the prediction is very accurate, i.e. if score bigger than $180$, the prediction is very accurate, i.e. the error is zero. "
   ]
  },
  {
   "cell_type": "markdown",
   "metadata": {},
   "source": [
    "### 2. Kernels and Kernel machine"
   ]
  },
  {
   "cell_type": "markdown",
   "metadata": {},
   "source": [
    "Q13. Write functions that compute the $\\operatorname{RBF}$ kernel $k_{\\operatorname{RBF}(\\sigma)}\\left(x, x^{\\prime}\\right)=\\exp \\left(-\\left\\|x-x^{\\prime}\\right\\|^{2} /\\left(2 \\sigma^{2}\\right)\\right)$ and the polynomial kernel $k_{\\text {poly }(a, d)}\\left(x, x^{\\prime}\\right)=\\left(a+\\left\\langle x, x^{\\prime}\\right\\rangle\\right)^{d}$. The linear kernel $k_{\\text {linear }}\\left(x, x^{\\prime}\\right)=$ $\\left\\langle x, x^{\\prime}\\right\\rangle$, has been done for you in the support code. Your functions should take as input two matrices $W \\in \\mathbb{R}^{n_{1} \\times d}$ and $X \\in \\mathbb{R}^{n_{2} \\times d}$ and should return a matrix $M \\in \\mathbb{R}^{n_{1} \\times n_{2}}$ where $M_{i j}=k\\left(W_{i}, X_{j}.\\right)$. In words, the $(i, j)$ 'th entry of $M$ should be kernel evaluation between $w_{i}$ (the $i$ th row of $W$ ) and $x_{j}$ (the $j$ th row of $X$ ). For the RBF kernel, you may use the scipy function cdist (X1,X2, 'sqeuclidean') in the package scipy.spatial.distance."
   ]
  },
  {
   "cell_type": "markdown",
   "metadata": {},
   "source": [
    "##### solution:"
   ]
  },
  {
   "cell_type": "code",
   "execution_count": 26,
   "metadata": {},
   "outputs": [],
   "source": [
    "import numpy as np\n",
    "import matplotlib.pyplot as plt\n",
    "import sklearn\n",
    "import scipy.spatial\n",
    "import functools\n",
    "%matplotlib inline"
   ]
  },
  {
   "cell_type": "code",
   "execution_count": 27,
   "metadata": {},
   "outputs": [],
   "source": [
    "def linear_kernel(X1, X2):\n",
    "    \"\"\"\n",
    "    Computes the linear kernel between two sets of vectors.\n",
    "    Args:\n",
    "        X1 - an n1xd matrix with vectors x1_1,...,x1_n1 in the rows\n",
    "        X2 - an n2xd matrix with vectors x2_1,...,x2_n2 in the rows\n",
    "    Returns:\n",
    "        matrix of size n1xn2, with x1_i^T x2_j in position i,j\n",
    "    \"\"\"\n",
    "    return np.dot(X1,np.transpose(X2))\n",
    "\n"
   ]
  },
  {
   "cell_type": "code",
   "execution_count": 28,
   "metadata": {},
   "outputs": [],
   "source": [
    "def RBF_kernel(X1,X2,sigma):\n",
    "    \"\"\"\n",
    "    Computes the RBF kernel between two sets of vectors   \n",
    "    Args:\n",
    "        X1 - an n1xd matrix with vectors x1_1,...,x1_n1 in the rows\n",
    "        X2 - an n2xd matrix with vectors x2_1,...,x2_n2 in the rows\n",
    "        sigma - the bandwidth (i.e. standard deviation) for the RBF/Gaussian kernel\n",
    "    Returns:\n",
    "        matrix of size n1xn2, with exp(-||x1_i-x2_j||^2/(2 sigma^2)) in position i,j\n",
    "    \"\"\"\n",
    "    #TODO\n",
    "    distance = scipy.spatial.distance.cdist(X1, X2, 'sqeuclidean')\n",
    "    return np.exp(-distance/(2*sigma**2))\n",
    "\n",
    "def polynomial_kernel(X1, X2, offset, degree):\n",
    "    \"\"\"\n",
    "    Computes the inhomogeneous polynomial kernel between two sets of vectors\n",
    "    Args:\n",
    "        X1 - an n1xd matrix with vectors x1_1,...,x1_n1 in the rows\n",
    "        X2 - an n2xd matrix with vectors x2_1,...,x2_n2 in the rows\n",
    "        offset, degree - two parameters for the kernel\n",
    "    Returns:\n",
    "        matrix of size n1xn2, with (offset + <x1_i,x2_j>)^degree in position i,j\n",
    "    \"\"\"\n",
    "    distance = linear_kernel(X1, X2)\n",
    "    return (offset + distance)**degree"
   ]
  },
  {
   "cell_type": "markdown",
   "metadata": {},
   "source": [
    "Q14. Use the linear kernel function defined in the code to compute the kernel matrix on the set of points $x_{0} \\in \\mathcal{D}_{X}=\\{-4,-1,0,2\\}$. Include both the code and the output."
   ]
  },
  {
   "cell_type": "code",
   "execution_count": 29,
   "metadata": {},
   "outputs": [
    {
     "name": "stdout",
     "output_type": "stream",
     "text": [
      "the result of linear kernel no {-4, -1, 0, 2}\n"
     ]
    },
    {
     "data": {
      "text/plain": [
       "array([[16,  4,  0, -8],\n",
       "       [ 4,  1,  0, -2],\n",
       "       [ 0,  0,  0,  0],\n",
       "       [-8, -2,  0,  4]])"
      ]
     },
     "execution_count": 29,
     "metadata": {},
     "output_type": "execute_result"
    }
   ],
   "source": [
    "# linear kernel is defined above\n",
    "arr = np.array([[-4], [-1], [0], [2]])\n",
    "res = linear_kernel(arr, arr)\n",
    "print(\"the result of linear kernel no {-4, -1, 0, 2}\")\n",
    "res"
   ]
  },
  {
   "cell_type": "markdown",
   "metadata": {},
   "source": [
    "15. Suppose we have the data set $\\mathcal{D}_{X, y}=\\{(-4,2),(-1,0),(0,3),(2,5)\\}$ (in each set of parentheses, the first number is the value of $x_{i}$ and the second number the corresponding value of the target $\\left.y_{i}\\right)$. Then by the representer theorem, the final prediction function will be in the span of the functions $x \\mapsto k\\left(x_{0}, x\\right)$ for $x_{0} \\in \\mathcal{D}_{X}=\\{-4,-1,0,2\\}$. This set of functions will look quite different depending on the kernel function we use. The set of functions $x \\mapsto k_{\\text {linear }}\\left(x_{0}, x\\right)$ for $x_{0} \\in \\mathcal{D}_{X}$ and for $x \\in[-6,6]$ has been provided for the linear kernel.\n",
    "\n",
    "    (a) Plot the set of functions $x \\mapsto k_{\\text {poly }(1,3)}\\left(x_{0}, x\\right)$ for $x_{0} \\in \\mathcal{D}_{X}$ and for $x \\in[-6,6]$.\n",
    "\n",
    "    (b) Plot the set of functions $x \\mapsto k_{\\operatorname{RBF}(1)}\\left(x_{0}, x\\right)$ for $x_{0} \\in \\mathcal{D}_{X}$ and for $x \\in[-6,6]$.\n",
    "\n",
    "    Note that the values of the parameters of the kernels you should use are given in their definitions in (a) and (b)."
   ]
  },
  {
   "cell_type": "code",
   "execution_count": 30,
   "metadata": {},
   "outputs": [
    {
     "data": {
      "image/png": "[encoded data removed]",
      "text/plain": [
       "<Figure size 1000x600 with 1 Axes>"
      ]
     },
     "metadata": {},
     "output_type": "display_data"
    }
   ],
   "source": [
    "X2 = np.linspace(-6, 6, 400).reshape(400, 1)\n",
    "X1 = np.array([[-4], [-1], [0], [2]])\n",
    "res1 = polynomial_kernel(X1, X2, 1, 3)\n",
    "plt.figure(figsize=(10, 6))\n",
    "for i, x0 in enumerate(res1):\n",
    "    plt.plot(X2, res1[i],  label=f\"poly_kernel_{X1[i]}\")\n",
    "plt.title('Polynomial Kernel Functions for different x0 values')\n",
    "plt.xlabel('x')\n",
    "plt.ylabel('k_poly(1,3)(x0, x)')\n",
    "plt.legend()\n",
    "plt.grid(True)\n",
    "plt.show()"
   ]
  },
  {
   "cell_type": "code",
   "execution_count": 31,
   "metadata": {},
   "outputs": [
    {
     "data": {
      "image/png": "[encoded data removed]",
      "text/plain": [
       "<Figure size 1000x600 with 1 Axes>"
      ]
     },
     "metadata": {},
     "output_type": "display_data"
    }
   ],
   "source": [
    "X2 = np.linspace(-6, 6, 400).reshape(400, 1)\n",
    "X1 = np.array([[-4], [-1], [0], [2]])\n",
    "res2 = RBF_kernel(X1, X2, 1)\n",
    "plt.figure(figsize=(10, 6))\n",
    "for i, x0 in enumerate(res1):\n",
    "    plt.plot(X2, res2[i], label = f'RBF_Kernel_{X1[i]}')\n",
    "plt.title('RBF Kernel Functions for different x0 values')\n",
    "plt.xlabel('x')\n",
    "plt.ylabel('k_poly(1,3)(x0, x)')\n",
    "plt.legend()\n",
    "plt.grid(True)\n",
    "plt.show()"
   ]
  },
  {
   "cell_type": "markdown",
   "metadata": {},
   "source": [
    "<figure>\n",
    "  <img src=\"graphs/kernel_of_poly.png\" alt=\"Alt text\" width=\"100%\">\n",
    "</figure>"
   ]
  },
  {
   "cell_type": "markdown",
   "metadata": {},
   "source": [
    "<figure>\n",
    "  <img src=\"graphs/RBF.png\" alt=\"Alt text\" width=\"100%\">\n",
    "</figure>"
   ]
  },
  {
   "cell_type": "markdown",
   "metadata": {},
   "source": [
    "The graph above are the graphs for Polynomial kernel and RBF kernel for $x\\in [-6, 6]$ "
   ]
  },
  {
   "cell_type": "markdown",
   "metadata": {},
   "source": [
    "Q16. By the representer theorem, the final prediction function will be of the form $f(x)=$ $\\sum_{i=1}^{n} \\alpha_{i} k\\left(x_{i}, x\\right)$, where $x_{1}, \\ldots, x_{n} \\in \\mathcal{X}$ are the inputs in the training set. We will use the class Kernel_Machine in the skeleton code to make prediction with different kernels. Complete the predict function of the class Kernel_Machine. Construct a Kernel_Machine object with the RBF kernel (sigma $=1$ ), with prototype points at $-1,0,1$ and corresponding weights $\\alpha_{i} 1,-1,1$. Plot the resulting function."
   ]
  },
  {
   "cell_type": "code",
   "execution_count": 44,
   "metadata": {},
   "outputs": [],
   "source": [
    "class Kernel_Machine(object):\n",
    "    def __init__(self, kernel, training_points, weights):\n",
    "        \"\"\"\n",
    "        Args:\n",
    "            kernel(X1,X2) - a function return the cross-kernel matrix between rows of X1 and rows of X2 for kernel k\n",
    "            training_points - an nxd matrix with rows x_1,..., x_n\n",
    "            weights - a vector of length n with entries alpha_1,...,alpha_n\n",
    "        \"\"\"\n",
    "\n",
    "        self.kernel = kernel\n",
    "        self.training_points = training_points\n",
    "        self.weights = weights\n",
    "        \n",
    "    def predict(self, X):\n",
    "        \"\"\"\n",
    "        Evaluates the kernel machine on the points given by the rows of X\n",
    "        Args:\n",
    "            X - an nxd matrix with inputs x_1,...,x_n in the rows\n",
    "        Returns:\n",
    "            Vector of kernel machine evaluations on the n points in X.  Specifically, jth entry of return vector is\n",
    "                Sum_{i=1}^R alpha_i k(x_j, mu_i)\n",
    "        \"\"\"\n",
    "        # TODO\n",
    "        matrix = self.kernel(X, self.training_points)\n",
    "        # print(matrix[:10])\n",
    "        # print(self.weights.shape)\n",
    "        # print(self.weights.T)\n",
    "        # print(self.weights)\n",
    "        ans = matrix @ self.weights\n",
    "        # print(ans[:10])\n",
    "        return ans\n",
    "        "
   ]
  },
  {
   "cell_type": "code",
   "execution_count": null,
   "metadata": {},
   "outputs": [],
   "source": [
    "training_points = np.array([-1, 0, 1]).reshape(-1,1)\n",
    "weights = np.array([1, -1, 1]).reshape(-1, 1)\n",
    "kernel = functools.partial(RBF_kernel, sigma = 1)\n",
    "X = np.linspace(-6, 6, 400).reshape(-1, 1)\n",
    "km = Kernel_Machine(kernel=kernel, training_points=training_points, weights=weights)\n",
    "plt.plot(X, km.predict(X))\n",
    "plt.xlabel('X')\n",
    "plt.ylabel('Y')\n",
    "plt.show()"
   ]
  },
  {
   "cell_type": "markdown",
   "metadata": {},
   "source": [
    "<figure>\n",
    "  <img src=\"graphs/q16.png\" alt=\"Alt text\" width=\"100%\">\n",
    "</figure>"
   ]
  },
  {
   "cell_type": "markdown",
   "metadata": {},
   "source": [
    "The graph above is the graph for Q16 given the data points. Also the relevant code is given above"
   ]
  },
  {
   "cell_type": "markdown",
   "metadata": {},
   "source": [
    "## 3. Logistic Rigression"
   ]
  },
  {
   "cell_type": "markdown",
   "metadata": {},
   "source": [
    "MLE with a Bernoulli response distribution and the logistic link function.\n",
    "\n",
    "As discussed in the lecture, given that $p(y=1 \\mid x ; w)=1 /\\left(1+\\exp \\left(-x^{T} w\\right)\\right)$, we can estimate $w$ by maximizing the likelihood, or equivalently, minimizing the negative $\\log$-likelihood $\\left(\\mathrm{NLL}_{\\mathcal{D}}(\\mathrm{w})\\right.$ in short) of the data. "
   ]
  },
  {
   "cell_type": "markdown",
   "metadata": {},
   "source": [
    "17. Show that the two approaches are equivalent, i.e. they will produce the same solution for $w$."
   ]
  },
  {
   "cell_type": "markdown",
   "metadata": {},
   "source": [
    "Taking $p(y_i = 1 |x:w) = \\frac{1}{1+exp(-x_i^\\top w)}$, $\\\\$ so that we can find $p(y_i=-1 | x:w) = 1-p(y_i=1|x:w) = 1-\\frac{1}{1+exp(-x_i^\\top w)} = \\frac{exp(-x_i^\\top w)}{1+exp(-x_i^\\top w)}$ $\\\\$ so we can write the maximizing the probability function as (assuming i.i.d. data points) as \n",
    "$$\\operatorname{argmax}_{\\mathbf{w} \\in \\mathbb{R}^d} \\prod_{i=1}^n (\\frac{1}{1+exp(-x_i^\\top w)})^{(\\frac{1+y_i}{2})} (\\frac{-x_i^\\top w}{1+exp(-x_i^\\top w)})^{(\\frac{1-y_i}{2})} \\\\= \\operatorname{argmax}_{\\mathbf{w} \\in \\mathbb{R}^d} \\sum_{i=1}^n (\\frac{1+y_i}{2}) log(\\frac{1}{1+exp(-x_i^\\top w)}) + (\\frac{1-y_i}{2}) log(\\frac{-x_i^\\top w}{1+exp(-x_i^\\top w)}) \\\\ = \\operatorname{argmax}_{\\mathbf{w} \\in \\mathbb{R}^d} -\\sum_{i=1}^n (\\frac{1+y_i}{2})(1+exp(-x_i^\\top w))+ (\\frac{1-y_i}{2})(1+exp(-x_i^\\top w)) \\\\ = \\operatorname{argmin}_{\\mathbf{w} \\in \\mathbb{R}^d} \\sum_{i=1}^n (\\frac{1+y_i}{2})(1+exp(-x_i^\\top w))+ (\\frac{1-y_i}{2})(1+exp(-x_i^\\top w)) \\\\ = \\operatorname{argmin}_{\\mathbf{w} \\in \\mathbb{R}^d} \\sum_{i=1}^n log(1+exp(-y_i w^\\top x_i))$$ \n",
    "which is indeed minimizing the the loss function using the loss function as given"
   ]
  },
  {
   "cell_type": "markdown",
   "metadata": {},
   "source": [
    "### Linearly Seperable Data\n"
   ]
  },
  {
   "cell_type": "markdown",
   "metadata": {},
   "source": [
    "Q18. Show that the decision boundary of logistic regression is given by $\\left\\{x: x^{T} w=0\\right\\}$. Note that the set will not change if we multiply the weights by some constant $c$."
   ]
  },
  {
   "cell_type": "markdown",
   "metadata": {},
   "source": [
    "we can see from the probability function that $p(y_i = 1 |x:w) = \\frac{1}{1+exp(-x_i^\\top w)}$ and $p(y_i=-1 | x:w) = \\frac{exp(-x_i^\\top w)}{1+exp(-x_i^\\top w)}$ $\\\\$ then when $x^\\top w=0$,$p(y_i = 1 |x:w) = p(y_i=-1 | x:w) = \\frac{1}{2}$, therefore, $\\left\\{x: x^{T} w=0\\right\\}$ is the decision boundary. $\\\\$ Since $x^{T} w=0$, $x^{T}cw = 0$, so it does not matter if we multiply the weights by some constant $c$"
   ]
  },
  {
   "cell_type": "markdown",
   "metadata": {},
   "source": [
    "Q19. Suppose the data is linearly separable and by gradient descent/ascent we have reached a decision boundary defined by $\\hat{w}$ where all examples are classified correctly. Show that we can always increase the likelihood of the data by multiplying a scalar $c$ on $\\hat{w}$, which means that MLE is not well-defined in this case. (Hint: You can show this by taking the derivative of $L(c \\hat{w})$ with respect to $c$, where $L$ is the likelihood function.)"
   ]
  },
  {
   "cell_type": "markdown",
   "metadata": {},
   "source": [
    "from previous, let $$L(c\\hat{w}) = -\\sum_{i=1}^n log(1+exp(-y_iw^{T}x_i)$$ \n",
    "therefore we can find $$\\frac{dL}{dc} = -\\sum_{i=1}^n \\frac{-y_iw^{T}x_i \\times exp(-y_icw^{T}x_i))}{1+exp(-y_icw^{T}x_i)} \\\\ = \\sum_{i=1}^n \\frac{y_iw^{T}x_i \\times exp(-y_icw^{T}x_i))}{1+exp(-y_icw^{T}x_i)}$$\n",
    "we can find that the derivative with respect to $c$ is always greater than $0$, which means the Liklihood function $L(c \\hat{w})$ is always increaing. Therefore, the liklihood function is not defined"
   ]
  },
  {
   "cell_type": "markdown",
   "metadata": {},
   "source": [
    "Q20.Prove that the objective function $J_{\\text {logistic }}(w)$ is convex. You may use any facts mentioned in the convex optimization notes."
   ]
  },
  {
   "cell_type": "markdown",
   "metadata": {},
   "source": []
  },
  {
   "cell_type": "markdown",
   "metadata": {},
   "source": [
    "Q21. Complete the f-objective function in the skeleton code, which computes the objective function for $J_{\\text {logistic }}(w)$. (Hint: you may get numerical overflow when computing the exponential literally, e.g. try $e^{1000}$ in Numpy. Make sure to read about the $\\log$-sum-exp trick and use the numpy function logaddexp to get accurate calculations and to prevent overflow."
   ]
  },
  {
   "cell_type": "code",
   "execution_count": 34,
   "metadata": {},
   "outputs": [],
   "source": [
    "def f_objective(theta, X, y, l2_param=1):\n",
    "    '''\n",
    "    Args:\n",
    "        theta: 1D numpy array of size num_features\n",
    "        X: 2D numpy array of size (num_instances, num_features)\n",
    "        y: 1D numpy array of size num_instances\n",
    "        l2_param: regularization parameter\n",
    "\n",
    "    Returns:\n",
    "        objective: scalar value of objective function\n",
    "    '''\n",
    "    nums = X.shape[0]\n",
    "    logistic_res = np.sum(np.logaddexp(np.zeros(nums), -y*np.dot(X, theta)))\n",
    "    return ((1/nums )* logistic_res + \n",
    "            l2_param*(np.linalg.norm(theta)**2))"
   ]
  },
  {
   "cell_type": "markdown",
   "metadata": {},
   "source": [
    "Q22. Complete the fit_logistic_regression_function in the skeleton code using the minimize function from scipy.optimize. Use this function to train a model on the provided data. Make sure to take the appropriate preprocessing steps, such as standardizing the data and adding a column for the bias term."
   ]
  },
  {
   "cell_type": "code",
   "execution_count": 35,
   "metadata": {},
   "outputs": [],
   "source": [
    "from scipy.optimize import minimize\n",
    "def fit_logistic_reg(X, y, objective_function, l2_param=1):\n",
    "    '''\n",
    "    Args:\n",
    "        X: 2D numpy array of size (num_instances, num_features)\n",
    "        y: 1D numpy array of size num_instances\n",
    "        objective_function: function returning the value of the objective\n",
    "        l2_param: regularization parameter\n",
    "        \n",
    "    Returns:\n",
    "        optimal_theta: 1D numpy array of size num_features\n",
    "    '''\n",
    "    func = functools.partial(objective_function, X=X, y=y, l2_param=l2_param)\n",
    "    theta = np.zeros(X.shape[1])\n",
    "    opt_theta = minimize(func, theta)\n",
    "    return opt_theta"
   ]
  },
  {
   "cell_type": "code",
   "execution_count": 36,
   "metadata": {},
   "outputs": [],
   "source": [
    "def load_data():\n",
    "    #returns X_train, Y_train, X_val, Y_val \n",
    "    dir = 'logis_data'\n",
    "    X_train, y_train, X_val, y_val = [], [], [], []\n",
    "    with open(f'{dir}\\\\X_train.txt') as file:\n",
    "        for line in file:\n",
    "            X_train.append(line.split(','))\n",
    "    X_train = np.asarray(X_train).astype(np.float32)\n",
    "    with open(f'{dir}\\\\y_train.txt') as file:\n",
    "        for line in file:\n",
    "            y_train.append(line)\n",
    "    y_train = np.asarray(y_train).astype(np.float32).flatten()\n",
    "    with open(f'{dir}\\\\X_val.txt') as file:\n",
    "        for line in file:\n",
    "            X_val.append(line.split(','))\n",
    "    X_val = np.asarray(X_val).astype(np.float32)\n",
    "    with open(f'{dir}\\\\y_val.txt') as file:\n",
    "        for line in file:\n",
    "            y_val.append(line)\n",
    "    y_val = np.asarray(y_val).astype(np.float32).flatten()\n",
    "    return X_train, y_train, X_val, y_val"
   ]
  },
  {
   "cell_type": "markdown",
   "metadata": {},
   "source": [
    "##### process the data"
   ]
  },
  {
   "cell_type": "code",
   "execution_count": null,
   "metadata": {},
   "outputs": [],
   "source": [
    "from sklearn.preprocessing import StandardScaler\n",
    "x_train, y_train, x_val, y_val = load_data()\n",
    "#change Ys into {-1, 1} from {0, 1}\n",
    "y_train[y_train == 0.] = -1.\n",
    "y_val[y_val == 0.] = -1.\n",
    "#add a bias to X\n",
    "x_train = np.c_[np.ones(x_train.shape[0]), x_train]\n",
    "x_val = np.c_[np.ones(x_val.shape[0]), x_val]\n",
    "#normalize the data\n",
    "scaler = StandardScaler()\n",
    "x_train = scaler.fit_transform(x_train)\n",
    "x_val = scaler.transform(x_val)"
   ]
  },
  {
   "cell_type": "code",
   "execution_count": null,
   "metadata": {},
   "outputs": [
    {
     "data": {
      "text/plain": [
       "array([-6.10077836e-09,  9.55845524e-04, -2.98346639e-04,  3.02819932e-03,\n",
       "        1.05326746e-01, -3.58831986e-03, -1.35867265e-03, -3.85251718e-03,\n",
       "       -7.90094372e-04, -1.14388063e-03, -7.17819475e-02,  6.54806018e-03,\n",
       "       -4.51114432e-03,  1.12491953e-02, -3.86476063e-03, -2.71217709e-03,\n",
       "        1.50353799e-03, -2.78421145e-03, -9.19052826e-03, -6.82308558e-03,\n",
       "       -1.02758585e-02])"
      ]
     },
     "execution_count": 56,
     "metadata": {},
     "output_type": "execute_result"
    }
   ],
   "source": [
    "w = fit_logistic_reg(x_train, y_train, f_objective, 1)\n",
    "w.x"
   ]
  },
  {
   "cell_type": "code",
   "execution_count": null,
   "metadata": {},
   "outputs": [],
   "source": [
    "def log_likelihood(X, y, weights):\n",
    "    # Compute the product of y, X, and weights\n",
    "    z = y * np.dot(X, weights)\n",
    "    \n",
    "    # Calculate the log-likelihood for the y in {-1, 1} case\n",
    "    likelihood = -np.log(1 + np.exp(-z))\n",
    "    \n",
    "    return np.sum(likelihood)"
   ]
  },
  {
   "cell_type": "code",
   "execution_count": null,
   "metadata": {},
   "outputs": [
    {
     "name": "stdout",
     "output_type": "stream",
     "text": [
      "[-234.8735993783128, -234.85357687781814, -234.6634475300462, -233.51990177225878, -238.34992980527215, -264.05305454737584, -275.52153105816814]\n"
     ]
    },
    {
     "data": {
      "image/png": "[encoded data removed]",
      "text/plain": [
       "<Figure size 1000x600 with 1 Axes>"
      ]
     },
     "metadata": {},
     "output_type": "display_data"
    }
   ],
   "source": [
    "lambs = [1e-5, 1e-4, 1e-3, 1e-2, 1e-1, 1,10]\n",
    "res = []\n",
    "for la in lambs:\n",
    "    w = fit_logistic_reg(x_train, y_train, f_objective, la)\n",
    "    res.append(log_likelihood(x_val, y_val, w.x))\n",
    "print(res)\n",
    "log_ = np.log10(lambs)\n",
    "plt.figure(figsize=(10,6))\n",
    "plt.plot(log_, res, label='log liklihood given different lambdas')\n",
    "plt.xlabel('log lambdas')\n",
    "plt.ylabel('log liklihood')\n",
    "plt.legend()\n",
    "plt.show()"
   ]
  },
  {
   "cell_type": "markdown",
   "metadata": {},
   "source": [
    "<figure>\n",
    "  <img src=\"graphs/lamdasQ23.png\" alt=\"Alt text\" width=\"100%\">\n",
    "</figure>"
   ]
  },
  {
   "cell_type": "markdown",
   "metadata": {},
   "source": [
    "from the graph we can see that the best $\\lambda$ is $10^{-2}$"
   ]
  }
 ],
 "metadata": {
  "kernelspec": {
   "display_name": "pytorch",
   "language": "python",
   "name": "python3"
  },
  "language_info": {
   "codemirror_mode": {
    "name": "ipython",
    "version": 3
   },
   "file_extension": ".py",
   "mimetype": "text/x-python",
   "name": "python",
   "nbconvert_exporter": "python",
   "pygments_lexer": "ipython3",
   "version": "3.9.16"
  }
 },
 "nbformat": 4,
 "nbformat_minor": 2
}

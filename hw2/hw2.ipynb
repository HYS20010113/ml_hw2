{
 "cells": [
  {
   "cell_type": "markdown",
   "metadata": {},
   "source": [
    "### Subgradient"
   ]
  },
  {
   "cell_type": "markdown",
   "metadata": {},
   "source": [
    "Q1. Suppose $f_{1}, \\ldots, f_{m}: \\mathbb{R}^{d} \\rightarrow \\mathbb{R}$ are convex functions, \n",
    "and $f(\\boldsymbol{x})=\\max _{i=1, \\ldots, m} f_{i}(\\boldsymbol{x})$. Let $k$ be any index for which $f_{k}(\\boldsymbol{x})=f(\\boldsymbol{x})$, and choose $g \\in \\partial f_{k}\\left(\\boldsymbol{x})\\right.$ (a convex function on $\\mathbb{R}^{d}$ has a non-empty subdifferential at all points). Show that $g \\in \\partial f(\\boldsymbol{x})$."
   ]
  },
  {
   "cell_type": "markdown",
   "metadata": {},
   "source": [
    "##### solution:\n",
    "let $z \\in R^d$, we know that $f(z) \\geq f_i(z) \\forall i=1,\\dots,m$ because we select that  $f(\\boldsymbol{x})=\\max _{i=1, \\ldots, m} f_{i}(\\boldsymbol{x})$, then by the fact that $g \\in \\partial f_{k}\\left(\\boldsymbol{x})\\right.$, we know by definition of subgradient that $f_k(z) \\geq f_k(x)+g^\\top(z-x)$, since $f_k(x)=f(x)$ and $f(z)>=f_k(z)$, we have that $f(z)>=f_k(z)>=f(x)+g^\\top (z-x)$, and therefore $g \\in \\partial f(\\boldsymbol{x})$."
   ]
  },
  {
   "cell_type": "markdown",
   "metadata": {},
   "source": [
    "Q2. Give a subgradient of the hinge loss objective $J(\\boldsymbol{w})=\\max \\left\\{0,1-y \\boldsymbol{w}^{T} \\boldsymbol{x}\\right\\}$."
   ]
  },
  {
   "cell_type": "markdown",
   "metadata": {},
   "source": [
    "##### solution:\n",
    "suppose $J_1(w) = 0$ and $J_2(w) = 1-yw^\\top x$, $\\\\$ For $1-yw^\\top x < 0$, we can always find a subgradient $g=0$, $\\\\$ for $1-yw^\\top x \\geq 0$, $\\frac{\\partial}{\\partial w} (1-yw^\\top x) = -yx$, so we can pick $-yx$ as a subgradient, therefore the subgradient $g$ can be written as $$g(\\mathbf{w}) = \n",
    "\\left\\{\n",
    "\\begin{array}{ll}\n",
    "0 & \\text{if } y \\cdot \\mathbf{w}^T \\mathbf{x} > 1 \\\\\n",
    "-y \\mathbf{x} & \\text{if } y \\cdot \\mathbf{w}^T \\mathbf{x} \\leq 1 \n",
    "\\end{array}\n",
    "\\right.$$"
   ]
  },
  {
   "cell_type": "markdown",
   "metadata": {},
   "source": [
    "Q3. Consider the SVM objective function for a single training point $\\quad J_{i}(\\boldsymbol{w})=\\frac{\\lambda}{2}\\|\\boldsymbol{w}\\|^{2}+$ $\\max \\left\\{0,1-y_{i} \\boldsymbol{w}^{T} \\boldsymbol{x}_{i}\\right\\}$. The function $J_{i}(\\boldsymbol{w})$ is not differentiable everywhere. Specify where the gradient of $J_{i}(w)$ is not defined. Give an expression for the gradient where it is defined."
   ]
  },
  {
   "cell_type": "markdown",
   "metadata": {},
   "source": [
    "##### solution:"
   ]
  },
  {
   "cell_type": "markdown",
   "metadata": {},
   "source": [
    "The function is not differntiable at $1-y_iw^\\top x_i = 0$ because this is the turning point from a linear function to constant. And the gradient can be expressed as $$g(\\mathbf{w}) = \n",
    "\\left\\{\n",
    "\\begin{array}{ll}\n",
    "\\lambda w & \\text{if } y \\cdot \\mathbf{w}^T \\mathbf{x} > 1 \\\\\n",
    "\\lambda w-y_i \\mathbf{x_i} & \\text{if } y \\cdot \\mathbf{w}^T \\mathbf{x} < 1 \\\\\n",
    "undefined & \\text{if } y \\cdot \\mathbf{w}^T \\mathbf{x} = 1\n",
    "\\end{array}\\right.$$"
   ]
  },
  {
   "cell_type": "markdown",
   "metadata": {},
   "source": [
    "Q4. Show that a subgradient of $J_{i}(w)$ is given by\n",
    "\n",
    "$$\n",
    "\\boldsymbol{g} \\boldsymbol{w}= \\begin{cases}\\lambda \\boldsymbol{w}-y_{i} \\boldsymbol{x}_{i} & \\text { for } y_{i} \\boldsymbol{w}^{T} \\boldsymbol{x}_{i}<1 \\\\ \\lambda \\boldsymbol{w} & \\text { for } y_{i} \\boldsymbol{w}^{T} \\boldsymbol{x}_{i} \\geq 1\\end{cases}\n",
    "$$\n",
    "\n",
    "You may use the following facts without proof: 1) If $f_{1}, \\ldots, f_{n}: \\mathbb{R}^{d} \\rightarrow \\mathbb{R}$ are convex functions and $f=f_{1}+\\cdots+f_{n}$, then $\\partial f(\\boldsymbol{x})=\\partial f_{1}(\\boldsymbol{x})+\\cdots+\\partial f_{n}(\\boldsymbol{x})$. 2) For $\\alpha \\geq 0$, $\\partial(\\alpha f)(x)=\\alpha \\partial f(x)$. (Hint: Use the first part of this problem.)"
   ]
  },
  {
   "cell_type": "markdown",
   "metadata": {},
   "source": [
    "##### solution:\n",
    "Using 1), as we know that $\\lambda ||w||^2$ is also a convex functions, we can just sum up the subgradient to get the subgradient of $gw$ as \n",
    "$$g\\mathbf{w} = \n",
    "\\left\\{\n",
    "\\begin{array}{ll}\n",
    "\\lambda w + 0 & \\text{if } y \\cdot \\mathbf{w}^T \\mathbf{x} \\geq 1 \\\\\n",
    "\\lambda w-y_i \\mathbf{x_i} & \\text{if } y \\cdot \\mathbf{w}^T \\mathbf{x} < 1\n",
    "\\end{array}\\right. \\\\ \\rightarrow g\\mathbf{w}=  \n",
    "\\left\\{\n",
    "\\begin{array}{ll}\n",
    "\\lambda w  & \\text{if } y \\cdot \\mathbf{w}^T \\mathbf{x} \\geq 1 \\\\\n",
    "\\lambda w-y_i \\mathbf{x_i} & \\text{if } y \\cdot \\mathbf{w}^T \\mathbf{x} < 1\n",
    "\\end{array}\\right.$$"
   ]
  },
  {
   "cell_type": "markdown",
   "metadata": {},
   "source": [
    "using the step size as $\\frac{1}{\\lambda t}$, and the gradient descent is updated as $w_{k+1} = w_k-\\eta_{t} (gw_k)$, we can get that\n",
    "$$\\mathbf{w_{k+1}} = \n",
    "\\left\\{\n",
    "\\begin{array}{ll}\n",
    "\\lambda w_k-\\eta_t \\lambda w_k & \\text{if } y \\cdot \\mathbf{w}^T \\mathbf{x} \\geq 1 \\\\\n",
    "\\lambda w_k-\\eta_t(\\lambda w_k-y_i x_i) & \\text{if } y \\cdot \\mathbf{w}^T \\mathbf{x} < 1\n",
    "\\end{array}\\right.  \\\\ \\mathbf{w_{k+1}} = \n",
    "\\left\\{\n",
    "\\begin{array}{ll}\n",
    "(1-\\eta_t)w_t & \\text{if } y \\cdot \\mathbf{w}^T \\mathbf{x} \\geq 1 \\\\\n",
    "(1-\\eta_t)w_t + \\eta_t x_iy_i& \\text{if } y \\cdot \\mathbf{w}^T \\mathbf{x} < 1\n",
    "\\end{array}\\right.$$"
   ]
  },
  {
   "cell_type": "markdown",
   "metadata": {},
   "source": [
    "Q5. Write a function that converts an example (a list of words) into a sparse bag-of-words representation. You may find Python's Counter class to be useful here. Note that a Counter is itself a dictionary."
   ]
  },
  {
   "cell_type": "code",
   "execution_count": 3,
   "metadata": {},
   "outputs": [],
   "source": [
    "from collections import Counter\n",
    "def convert(words:list)->dict:\n",
    "    return dict(Counter(words))"
   ]
  },
  {
   "cell_type": "markdown",
   "metadata": {},
   "source": [
    "Q6. Load all the data and split it into 1500 training examples and 500 validation examples. Format the training data as a list X train of dictionaries and y train as the list of corre-sponding 1 or -1 labels. Format the test set similarly."
   ]
  },
  {
   "cell_type": "code",
   "execution_count": 4,
   "metadata": {},
   "outputs": [],
   "source": [
    "import os\n",
    "import numpy as np\n",
    "import random\n",
    "import copy\n",
    "\n",
    "\n",
    "def folder_list(path,label):\n",
    "    '''\n",
    "    PARAMETER PATH IS THE PATH OF YOUR LOCAL FOLDER\n",
    "    '''\n",
    "    filelist = os.listdir(path)\n",
    "    review = []\n",
    "    for infile in filelist:\n",
    "        file = os.path.join(path,infile)\n",
    "        r = read_data(file)\n",
    "        r.append(label)\n",
    "        review.append(r)\n",
    "    return review\n",
    "\n",
    "def read_data(file):\n",
    "    '''\n",
    "    Read each file into a list of strings.\n",
    "    Example:\n",
    "    [\"it's\", 'a', 'curious', 'thing', \"i've\", 'found', 'that', 'when', 'willis', 'is', 'not', 'called', 'on',\n",
    "    ...'to', 'carry', 'the', 'whole', 'movie', \"he's\", 'much', 'better', 'and', 'so', 'is', 'the', 'movie']\n",
    "    '''\n",
    "    f = open(file)\n",
    "    lines = f.read().split(' ')\n",
    "    symbols = '${}()[].,:;+-*/&|<>=~\" '\n",
    "    words = map(lambda Element: Element.translate(str.maketrans(\"\", \"\", symbols)).strip(), lines)\n",
    "    words = filter(None, words)\n",
    "    return list(words)\n",
    "\n",
    "\n",
    "def load_and_shuffle_data():\n",
    "    '''\n",
    "    pos_path is where you save positive review data.\n",
    "    neg_path is where you save negative review data.\n",
    "    '''\n",
    "    pos_path = \"data_reviews\\\\pos\"\n",
    "    neg_path = \"data_reviews\\\\neg\"\n",
    "    \n",
    "    pos_review = folder_list(pos_path,1)\n",
    "    neg_review = folder_list(neg_path,-1)\n",
    "\n",
    "    review = pos_review + neg_review\n",
    "    random.shuffle(review)\n",
    "    return review\n",
    "\n",
    "# Taken from http://web.stanford.edu/class/cs221/ Assignment #2 Support Code\n",
    "def dotProduct(d1, d2):\n",
    "    \"\"\"\n",
    "    @param dict d1: a feature vector represented by a mapping from a feature (string) to a weight (float).\n",
    "    @param dict d2: same as d1\n",
    "    @return float: the dot product between d1 and d2\n",
    "    \"\"\"\n",
    "    if len(d1) < len(d2):\n",
    "        return dotProduct(d2, d1)\n",
    "    else:\n",
    "        return sum(d1.get(f, 0) * v for f, v in d2.items())\n",
    "\n",
    "def increment(d1, scale, d2):\n",
    "    \"\"\"\n",
    "    Implements d1 += scale * d2 for sparse vectors.\n",
    "    @param dict d1: the feature vector which is mutated.\n",
    "    @param float scale\n",
    "    @param dict d2: a feature vector.\n",
    "\n",
    "    NOTE: This function does not return anything, but rather\n",
    "    increments d1 in place. We do this because it is much faster to\n",
    "    change elements of d1 in place than to build a new dictionary and\n",
    "    return it.\n",
    "    \"\"\"\n",
    "    for f, v in d2.items():\n",
    "        d1[f] = d1.get(f, 0) + v * scale\n"
   ]
  },
  {
   "cell_type": "markdown",
   "metadata": {},
   "source": [
    "##### solution"
   ]
  },
  {
   "cell_type": "code",
   "execution_count": 31,
   "metadata": {},
   "outputs": [],
   "source": [
    "data_reviews = load_and_shuffle_data()\n",
    "train = data_reviews[:1500]\n",
    "test = data_reviews[1500:]"
   ]
  },
  {
   "cell_type": "code",
   "execution_count": 32,
   "metadata": {},
   "outputs": [],
   "source": [
    "def format_train_test_data(train, test):\n",
    "    X_train = []\n",
    "    Y_train = []\n",
    "    X_test = []\n",
    "    Y_test = []\n",
    "    for data in train:\n",
    "        X_train.append(convert(data[:-1]))\n",
    "        Y_train.append(int(data[-1]))\n",
    "    for data in test:\n",
    "        X_test.append(convert(data[:-1]))\n",
    "        Y_test.append(int(data[-1]))\n",
    "    return X_train, Y_train, X_test, Y_test\n",
    "x_train, y_train, x_test, y_test = format_train_test_data(train, test)"
   ]
  },
  {
   "cell_type": "markdown",
   "metadata": {},
   "source": [
    "Q7. Implement the Pegasos algorithm to run on a sparse data representation. The output\n",
    "should be a sparse weight vector w represented as a dictionary. Note that our Pegasos\n",
    "algorithm starts at w = 0, which corresponds to an empty dictionary. Note: With this\n",
    "problem, you will need to take some care to code things effciently. In particular, be aware\n",
    "that making copies of the weight dictionary can slow down your code significantly. If you\n",
    "want to make a copy of your weights (e.g. for checking for convergence), make sure you\n",
    "don't do this more than once per epoch. Also: If you normalize your data in some way,\n",
    "be sure not to destroy the sparsity of your data. Anything that starts as 0 should stay at 0."
   ]
  },
  {
   "cell_type": "code",
   "execution_count": null,
   "metadata": {},
   "outputs": [],
   "source": [
    "def pegasos(X, y, lambda_ = 0.01, max_epoch = 25):\n",
    "    w = {} # initailiza a sparse representation of weight\n",
    "    for data in X:\n",
    "        for key in data.keys():\n",
    "            if key not in w.keys():\n",
    "                w[key] = 0\n",
    "    order = np.arange(len(X))\n",
    "    t = 1\n",
    "    eta = 0\n",
    "    r = np.random.RandomState(10)\n",
    "    for _ in range(max_epoch):\n",
    "        # r.shuffle(order)\n",
    "        for i in range(len(X)):\n",
    "            t+=1\n",
    "            eta = 1/(lambda_ * t)\n",
    "            if y[i]*dotProduct(w, X[i])<1:\n",
    "                increment(w, -eta * lambda_, w)\n",
    "                increment(w, eta * y[i], X[i])\n",
    "            else:\n",
    "                increment(w, -eta*lambda_, w)\n",
    "    W = copy.deepcopy(w)\n",
    "    return W"
   ]
  },
  {
   "cell_type": "markdown",
   "metadata": {},
   "source": [
    "8. If the update is $w_{t+1}=\\left(1-\\eta_{t} \\lambda\\right) w_{t}+\\eta_{t} y_{j} x_{j}$, then verify that the Pegasos update step is equivalent to:\n",
    "\n",
    "$$\n",
    "\\begin{aligned}\n",
    "s_{t+1} & =\\left(1-\\eta_{t} \\lambda\\right) s_{t} \\\\\n",
    "W_{t+1} & =W_{t}+\\frac{1}{s_{t+1}} \\eta_{t} y_{j} x_{j} .\n",
    "\\end{aligned}\n",
    "$$\n",
    "\n",
    "Implement the Pegasos algorithm with the $(s, W)$ representation described above. "
   ]
  },
  {
   "cell_type": "markdown",
   "metadata": {},
   "source": [
    "##### solution:\n",
    "to verify the update step:\n",
    "$$w_{t+1} = s_{t+1}W_{t+1} = (1-\\eta_t \\lambda)s_t(W_t+\\frac{1}{s_{t+1}}\\eta_t y_jx_j) \n",
    "\\\\ = (1-\\eta_t \\lambda)s_t(W_t+\\frac{1}{(1-\\eta_t \\lambda)s_t}\\eta_t y_jx_j)\n",
    "\\\\ = (1-\\eta_t \\lambda)s_tW_t+\\eta_t y_jx_j \\\\ = (1-\\eta_t \\lambda)w_t+\\eta_t y_jx_j$$"
   ]
  },
  {
   "cell_type": "code",
   "execution_count": 64,
   "metadata": {},
   "outputs": [],
   "source": [
    "def fast_pegasos(X, y, lambda_ = 0.01, max_epoch = 25):\n",
    "    w = {} # initailiza a sparse representation of weight\n",
    "    for data in X:\n",
    "        for key in data.keys():\n",
    "            if key not in w.keys():\n",
    "                w[key] = 0\n",
    "    order = np.arange(len(X))\n",
    "    W = copy.deepcopy(w)\n",
    "    t = 1\n",
    "    eta = 0\n",
    "    s = 1.0\n",
    "    r = np.random.RandomState(10)\n",
    "    for _ in range(max_epoch):\n",
    "        # r.shuffle(order)\n",
    "        for i in range(len(X)):\n",
    "            # print(i)\n",
    "            t+=1\n",
    "            eta = 1/(lambda_ * t)\n",
    "            if s == 0:\n",
    "                s = 1.0\n",
    "                W = copy.deepcopy(w)\n",
    "            if y[i]* s *dotProduct(W, X[i]) < 1:\n",
    "                s = (1 - eta*lambda_)*s\n",
    "                increment(W, (1.0/s)*eta*y[i], X[i])\n",
    "            else:\n",
    "                s = (1-eta*lambda_)*s\n",
    "    increment(w,s,W)\n",
    "    return w"
   ]
  },
  {
   "cell_type": "markdown",
   "metadata": {},
   "source": [
    "Q9. Run both implementations of Pegasos on the training data for a couple epochs. Make sure\n",
    "your implementations are correct by verifying that the two approaches give essentially the\n",
    "same result. Report on the time taken to run each approach."
   ]
  },
  {
   "cell_type": "markdown",
   "metadata": {},
   "source": [
    "##### solution"
   ]
  },
  {
   "cell_type": "code",
   "execution_count": 59,
   "metadata": {},
   "outputs": [],
   "source": [
    "def count_within_tolerance(d1, d2, tolerance=1e-6):\n",
    "    count = 0\n",
    "    for key in d1:\n",
    "        difference = abs(d1[key] - d2[key])\n",
    "        if difference <= tolerance:\n",
    "            count += 1\n",
    "    return count"
   ]
  },
  {
   "cell_type": "code",
   "execution_count": 60,
   "metadata": {},
   "outputs": [
    {
     "name": "stdout",
     "output_type": "stream",
     "text": [
      "The total time spent on normal pegasos method:  125.51080322265625\n",
      "The total time spent on fast pegasos method:  1.4624598026275635\n",
      "----------------------------------------------------------------\n",
      "-------------Verification of the result--------------------\n",
      "Check all keys are the same:  True\n",
      "total number of keys: 43424\n",
      "Number of keys that has value within tolerance of 10^-6: 43424\n"
     ]
    }
   ],
   "source": [
    "import time\n",
    "time1 = time.time()\n",
    "w_normal = pegasos(x_train, y_train)\n",
    "time2 = time.time()\n",
    "print(\"The total time spent on normal pegasos method: \", time2-time1)\n",
    "time3 = time.time()\n",
    "w_fast = fast_pegasos(x_train, y_train)\n",
    "time4 =time.time()\n",
    "print(\"The total time spent on fast pegasos method: \", time4-time3)\n",
    "print(\"----------------------------------------------------------------\")\n",
    "print(\"-------------Verification of the result--------------------\")\n",
    "print(\"Check all keys are the same: \", w_normal.keys() == w_fast.keys())\n",
    "print(\"total number of keys:\", len(w_fast))\n",
    "print(\"Number of keys that has value within tolerance of 10^-6:\", count_within_tolerance(w_normal, w_fast))"
   ]
  },
  {
   "cell_type": "markdown",
   "metadata": {},
   "source": [
    "From the result above we can see that the results are basically the same within at least 6 digits of precision and we can also notice the fast_pegasos method is significantly faster than the normal method, the total running time of $25$ epoches is significanlty less than the normal method"
   ]
  },
  {
   "cell_type": "markdown",
   "metadata": {},
   "source": [
    "Q10. Write a function classification_error that takes a sparse weight vector $\\mathrm{w}$, a list of sparse vectors $\\mathrm{X}$ and the corresponding list of labels $\\mathrm{y}$, and returns the fraction of errors when predicting $y_{i}$ using $\\operatorname{sign}\\left(\\boldsymbol{w}^{T} \\boldsymbol{x}_{i}\\right)$. In other words, the function reports the 0-1 loss of the linear predictor $f(\\boldsymbol{x})=\\boldsymbol{w}^{T} \\boldsymbol{x}$"
   ]
  },
  {
   "cell_type": "code",
   "execution_count": 62,
   "metadata": {},
   "outputs": [
    {
     "data": {
      "text/plain": [
       "0.16200000000000003"
      ]
     },
     "execution_count": 62,
     "metadata": {},
     "output_type": "execute_result"
    }
   ],
   "source": [
    "def classification_error(X, y, w):\n",
    "    preds = []\n",
    "    for sample in X:\n",
    "        res = dotProduct(w, sample)\n",
    "        if res>0:\n",
    "            pred = 1            \n",
    "        if res<0:\n",
    "            pred = -1\n",
    "        preds.append(pred)\n",
    "    count = 0\n",
    "    for i in range(len(preds)):\n",
    "        if preds[i] == y[i]:\n",
    "            count+=1\n",
    "    return 1-count/len(preds)\n",
    "classification_error(x_test, y_test, w_normal)"
   ]
  },
  {
   "cell_type": "markdown",
   "metadata": {},
   "source": [
    "Q11. Search for the regularization parameter that gives the minimal percent error on your test set. You should now use your faster Pegasos implementation, and run it to convergence. A good search strategy is to start with a set of regularization parameters spanning a broad range of orders of magnitude. Then, continue to zoom in until you're convinced that additional search will not significantly improve your test performance. Plot the test errors you obtained as a function of the parameters $\\lambda$ you tested. (Hint: the error you get with the best regularization should be closer to $15 \\%$ than $20 \\%$. If not, maybe you did not train to convergence.)"
   ]
  },
  {
   "cell_type": "code",
   "execution_count": 68,
   "metadata": {},
   "outputs": [
    {
     "data": {
      "image/png": "[encoded data removed]",
      "text/plain": [
       "<Figure size 1000x600 with 1 Axes>"
      ]
     },
     "metadata": {},
     "output_type": "display_data"
    }
   ],
   "source": [
    "import matplotlib.pyplot as plt\n",
    "lambdas = [1e-5, 1e-4, 1e-3, 1e-2, 1e-1, 1, 10]\n",
    "errors = []\n",
    "for lambda_ in lambdas:\n",
    "    w = fast_pegasos(x_train, y_train, lambda_=lambda_, max_epoch=18)\n",
    "    errors.append(classification_error(x_test, y_test, w))\n",
    "log_lambdas = np.log10(lambdas)\n",
    "plt.figure(figsize=(10, 6))\n",
    "plt.plot(log_lambdas, errors, color='blue', marker='o', linestyle='-')\n",
    "plt.title('Scatter Plot of log(Parameters) vs Errors')\n",
    "plt.xlabel('log(Parameters)')\n",
    "plt.ylabel('Errors')\n",
    "plt.grid(True)\n",
    "plt.show()"
   ]
  },
  {
   "cell_type": "markdown",
   "metadata": {},
   "source": [
    "The best $\\lambda$ as shown in the graph is $10^{-3}$"
   ]
  },
  {
   "cell_type": "markdown",
   "metadata": {},
   "source": [
    "Q12. Break the predictions on the test set into groups based on the score (you can play with\n",
    "the size of the groups to get a result you think is informative). For each group, examine\n",
    "the percentage error. You can make a table or graph. Summarize the results. Is there a\n",
    "correlation between higher magnitude scores and accuracy?"
   ]
  },
  {
   "cell_type": "code",
   "execution_count": 100,
   "metadata": {},
   "outputs": [],
   "source": [
    "import numpy as np\n",
    "\n",
    "def indices_in_range(arr, low, high):\n",
    "    return np.where((arr >= low) & (arr <= high))\n"
   ]
  },
  {
   "cell_type": "code",
   "execution_count": 101,
   "metadata": {},
   "outputs": [
    {
     "data": {
      "image/png": "[encoded data removed]",
      "text/plain": [
       "<Figure size 1000x600 with 1 Axes>"
      ]
     },
     "metadata": {},
     "output_type": "display_data"
    }
   ],
   "source": [
    "w = fast_pegasos(x_train, y_train, lambda_=1e-3, max_epoch=18)\n",
    "def get_score(X,w):\n",
    "    scores = []\n",
    "    for sample in X:\n",
    "        scores.append(abs(dotProduct(w, sample)))\n",
    "    return np.array(scores)\n",
    "scores = get_score(x_test,w)\n",
    "intervals = [(0, 60), (61, 120), (121, 180), (181, 240), (241, 300), (301, 360), (360, 420)]\n",
    "\n",
    "def test_accuracy_base_on_group(X, y, w):\n",
    "    errors_for_groups = []\n",
    "    for interval in intervals:\n",
    "        indices = indices_in_range(scores, interval[0], interval[1])[0]\n",
    "        errors_for_groups.append(classification_error([X[idx] for idx in indices], [y[idx] for idx in indices], w))\n",
    "    return errors_for_groups\n",
    "errors_for_groups = test_accuracy_base_on_group(x_test, y_test, w)\n",
    "x = np.arange(7)\n",
    "test_for_total = [0.1566]*7\n",
    "plt.figure(figsize=(10,6))\n",
    "plt.plot(errors_for_groups, label = 'test error for different groups')\n",
    "plt.plot(test_for_total, '--',label = 'test loss for all test set')\n",
    "plt.xlabel('group number')\n",
    "plt.ylabel(\"test loss\")\n",
    "plt.legend()\n",
    "plt.grid('True')\n",
    "plt.show()"
   ]
  },
  {
   "cell_type": "markdown",
   "metadata": {},
   "source": [
    "from the graph we can see that for groups that has lower score, the error is obviouly higher, and for asbosolute score that is sufficeintly large, the prediction is very accurate, i.e. if score bigger than $180$, the prediction is very accurate. "
   ]
  }
 ],
 "metadata": {
  "kernelspec": {
   "display_name": "pytorch",
   "language": "python",
   "name": "python3"
  },
  "language_info": {
   "codemirror_mode": {
    "name": "ipython",
    "version": 3
   },
   "file_extension": ".py",
   "mimetype": "text/x-python",
   "name": "python",
   "nbconvert_exporter": "python",
   "pygments_lexer": "ipython3",
   "version": "3.7.15"
  }
 },
 "nbformat": 4,
 "nbformat_minor": 2
}
